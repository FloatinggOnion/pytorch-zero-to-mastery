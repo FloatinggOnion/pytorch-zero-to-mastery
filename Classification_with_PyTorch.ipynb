{
  "nbformat": 4,
  "nbformat_minor": 0,
  "metadata": {
    "colab": {
      "provenance": [],
      "gpuType": "T4",
      "authorship_tag": "ABX9TyPTgI7lX0k//cnepGnA3jCR",
      "include_colab_link": true
    },
    "kernelspec": {
      "name": "python3",
      "display_name": "Python 3"
    },
    "language_info": {
      "name": "python"
    },
    "accelerator": "GPU"
  },
  "cells": [
    {
      "cell_type": "markdown",
      "metadata": {
        "id": "view-in-github",
        "colab_type": "text"
      },
      "source": [
        "<a href=\"https://colab.research.google.com/github/FloatinggOnion/pytorch-zero-to-mastery/blob/main/Classification_with_PyTorch.ipynb\" target=\"_parent\"><img src=\"https://colab.research.google.com/assets/colab-badge.svg\" alt=\"Open In Colab\"/></a>"
      ]
    },
    {
      "cell_type": "code",
      "source": [
        "import torch\n",
        "from torch import nn\n",
        "\n",
        "RANDOM_STATE = 42"
      ],
      "metadata": {
        "id": "WU_PYGm-awHQ"
      },
      "execution_count": null,
      "outputs": []
    },
    {
      "cell_type": "code",
      "source": [
        "# creating dataset\n",
        "from sklearn.datasets import make_moons\n",
        "\n",
        "X, y = make_moons(n_samples=1000, noise=0.02, random_state=42)"
      ],
      "metadata": {
        "id": "LAMlyYSegqg0"
      },
      "execution_count": null,
      "outputs": []
    },
    {
      "cell_type": "code",
      "source": [
        "# turn into dataframe\n",
        "import pandas as pd\n",
        "\n",
        "moons = pd.DataFrame({\n",
        "      'X1': X[:, 0],\n",
        "      'X2': X[:, 1],\n",
        "      'label':y\n",
        "        },\n",
        ")\n",
        "\n",
        "X.shape"
      ],
      "metadata": {
        "colab": {
          "base_uri": "https://localhost:8080/"
        },
        "id": "tsYNggp8hE66",
        "outputId": "35f645fd-0c66-49f4-d232-45c61e002658"
      },
      "execution_count": null,
      "outputs": [
        {
          "output_type": "execute_result",
          "data": {
            "text/plain": [
              "(1000, 2)"
            ]
          },
          "metadata": {},
          "execution_count": 3
        }
      ]
    },
    {
      "cell_type": "code",
      "source": [
        "# visualising in scatter plot\n",
        "import matplotlib.pyplot as plt\n",
        "\n",
        "plt.figure(figsize=(3, 3))\n",
        "\n",
        "plt.scatter(x=X[:,0], y=X[:, 1], c=y, label=\"moons data\")\n",
        "plt.xlabel('X values')\n",
        "plt.ylabel('Y values')\n",
        "plt.title(\"Scatter plot for moons dataset\")\n",
        "\n",
        "plt.show()"
      ],
      "metadata": {
        "colab": {
          "base_uri": "https://localhost:8080/",
          "height": 333
        },
        "id": "lOYskMRLhZtc",
        "outputId": "8e6879fa-1ce4-447c-eeed-4bfcfbafc53a"
      },
      "execution_count": null,
      "outputs": [
        {
          "output_type": "display_data",
          "data": {
            "text/plain": [
              "<Figure size 300x300 with 1 Axes>"
            ],
            "image/png": "[encoded data removed]"
          },
          "metadata": {}
        }
      ]
    },
    {
      "cell_type": "code",
      "source": [
        "# turn data into tensors\n",
        "X = torch.from_numpy(X).float()\n",
        "y = torch.from_numpy(y).float()\n",
        "\n",
        "X.dtype"
      ],
      "metadata": {
        "colab": {
          "base_uri": "https://localhost:8080/"
        },
        "id": "i6DXvapMiWdw",
        "outputId": "01552543-047a-4a76-ea66-2f9dce300922"
      },
      "execution_count": null,
      "outputs": [
        {
          "output_type": "execute_result",
          "data": {
            "text/plain": [
              "torch.float32"
            ]
          },
          "metadata": {},
          "execution_count": 5
        }
      ]
    },
    {
      "cell_type": "code",
      "source": [
        "# split into train and test sets\n",
        "from sklearn.model_selection import train_test_split\n",
        "\n",
        "X_train, X_test, y_train, y_test = train_test_split(X, y, test_size=0.2, random_state=42)\n",
        "\n",
        "X_train.shape, X_test.shape, y_train.shape, y_test.shape"
      ],
      "metadata": {
        "colab": {
          "base_uri": "https://localhost:8080/"
        },
        "id": "yNf4w3wQoOkG",
        "outputId": "36e27189-0dbe-4c5e-8b09-c23af57f64cc"
      },
      "execution_count": null,
      "outputs": [
        {
          "output_type": "execute_result",
          "data": {
            "text/plain": [
              "(torch.Size([800, 2]),\n",
              " torch.Size([200, 2]),\n",
              " torch.Size([800]),\n",
              " torch.Size([200]))"
            ]
          },
          "metadata": {},
          "execution_count": 6
        }
      ]
    },
    {
      "cell_type": "code",
      "source": [
        "device = 'cuda' if torch.cuda.is_available() else 'cpu'\n",
        "device"
      ],
      "metadata": {
        "colab": {
          "base_uri": "https://localhost:8080/",
          "height": 36
        },
        "id": "u9GDQ9N7qA1D",
        "outputId": "2cb32097-2570-4246-ee8e-35e82496559a"
      },
      "execution_count": null,
      "outputs": [
        {
          "output_type": "execute_result",
          "data": {
            "text/plain": [
              "'cuda'"
            ],
            "application/vnd.google.colaboratory.intrinsic+json": {
              "type": "string"
            }
          },
          "metadata": {},
          "execution_count": 7
        }
      ]
    },
    {
      "cell_type": "code",
      "source": [
        "# building a model with torch.nn\n",
        "class ClassificationModel(nn.Module):\n",
        "\n",
        "  def __init__(self):\n",
        "    super().__init__()\n",
        "\n",
        "    # 2 layers that can handle input and output values\n",
        "    self.layer_1 = nn.Linear(in_features=2, out_features=5)\n",
        "    self.layer_2 = nn.Linear(in_features=5, out_features=1)\n",
        "\n",
        "  def forward(self, x):\n",
        "    # x goes through layer 1, then that goes through layer 2\n",
        "    return self.layer_2(self.layer_1(x))\n",
        "\n",
        "\n",
        "model_0 = ClassificationModel().to(device)\n",
        "model_0"
      ],
      "metadata": {
        "colab": {
          "base_uri": "https://localhost:8080/"
        },
        "id": "-CnDF0abo9TX",
        "outputId": "87bf7d96-bad1-4a08-f450-5bfb2700d8c9"
      },
      "execution_count": null,
      "outputs": [
        {
          "output_type": "execute_result",
          "data": {
            "text/plain": [
              "ClassificationModel(\n",
              "  (layer_1): Linear(in_features=2, out_features=5, bias=True)\n",
              "  (layer_2): Linear(in_features=5, out_features=1, bias=True)\n",
              ")"
            ]
          },
          "metadata": {},
          "execution_count": 8
        }
      ]
    },
    {
      "cell_type": "code",
      "source": [
        "# set up BCE loss for binary classification\n",
        "loss_fn = nn.BCEWithLogitsLoss()\n",
        "\n",
        "# set up stochastic gradient descent for optimization\n",
        "optimizer = torch.optim.SGD(params=model_0.parameters(), lr=0.01)"
      ],
      "metadata": {
        "id": "tcgrgioar2x3"
      },
      "execution_count": null,
      "outputs": []
    },
    {
      "cell_type": "code",
      "source": [
        "# Calculate accuracy (a classification metric)\n",
        "def accuracy_fn(y_true, y_pred):\n",
        "    correct = torch.eq(y_true, y_pred).sum().item() # torch.eq() calculates where two tensors are equal\n",
        "    acc = (correct / len(y_pred)) * 100\n",
        "    return acc"
      ],
      "metadata": {
        "id": "LYPXUei8sycu"
      },
      "execution_count": null,
      "outputs": []
    },
    {
      "cell_type": "code",
      "source": [
        "# View the frist 5 outputs of the forward pass on the test data\n",
        "y_logits = model_0(X_test.to(device))[:5]\n",
        "y_logits"
      ],
      "metadata": {
        "colab": {
          "base_uri": "https://localhost:8080/"
        },
        "id": "QezdSrEIuGIk",
        "outputId": "82919865-5191-4f4c-b35b-a613139072fe"
      },
      "execution_count": null,
      "outputs": [
        {
          "output_type": "execute_result",
          "data": {
            "text/plain": [
              "tensor([[0.4906],\n",
              "        [0.2362],\n",
              "        [0.5771],\n",
              "        [0.1914],\n",
              "        [0.5193]], device='cuda:0', grad_fn=<SliceBackward0>)"
            ]
          },
          "metadata": {},
          "execution_count": 11
        }
      ]
    },
    {
      "cell_type": "code",
      "source": [
        "# Use sigmoid on model logits\n",
        "y_pred_probs = torch.sigmoid(y_logits)\n",
        "y_pred_probs"
      ],
      "metadata": {
        "colab": {
          "base_uri": "https://localhost:8080/"
        },
        "id": "ONYFNVq2wqSA",
        "outputId": "e3876b00-d3e9-49cb-aae6-0c4791ecca42"
      },
      "execution_count": null,
      "outputs": [
        {
          "output_type": "execute_result",
          "data": {
            "text/plain": [
              "tensor([[0.6203],\n",
              "        [0.5588],\n",
              "        [0.6404],\n",
              "        [0.5477],\n",
              "        [0.6270]], device='cuda:0', grad_fn=<SigmoidBackward0>)"
            ]
          },
          "metadata": {},
          "execution_count": 12
        }
      ]
    },
    {
      "cell_type": "code",
      "source": [
        "# Find the predicted labels (round the prediction probabilities)\n",
        "y_preds = torch.round(y_pred_probs)\n",
        "\n",
        "# In full\n",
        "y_pred_labels = torch.round(torch.sigmoid(model_0(X_test.to(device))[:5]))\n",
        "\n",
        "# Check for equality\n",
        "print(torch.eq(y_preds.squeeze(), y_pred_labels.squeeze()))\n",
        "\n",
        "# Get rid of extra dimension\n",
        "y_preds.squeeze()"
      ],
      "metadata": {
        "colab": {
          "base_uri": "https://localhost:8080/"
        },
        "id": "cqfg2oNPw4Bj",
        "outputId": "90dcb32d-ab6b-4c8b-9030-6492af63fdb1"
      },
      "execution_count": null,
      "outputs": [
        {
          "output_type": "stream",
          "name": "stdout",
          "text": [
            "tensor([True, True, True, True, True], device='cuda:0')\n"
          ]
        },
        {
          "output_type": "execute_result",
          "data": {
            "text/plain": [
              "tensor([1., 1., 1., 1., 1.], device='cuda:0', grad_fn=<SqueezeBackward0>)"
            ]
          },
          "metadata": {},
          "execution_count": 13
        }
      ]
    },
    {
      "cell_type": "code",
      "source": [
        "y_test[:5]"
      ],
      "metadata": {
        "colab": {
          "base_uri": "https://localhost:8080/"
        },
        "id": "zTDam8BBxVA1",
        "outputId": "0f598a85-e9a8-4146-d237-159bf2a91e52"
      },
      "execution_count": null,
      "outputs": [
        {
          "output_type": "execute_result",
          "data": {
            "text/plain": [
              "tensor([1., 0., 1., 0., 1.])"
            ]
          },
          "metadata": {},
          "execution_count": 14
        }
      ]
    },
    {
      "cell_type": "code",
      "source": [
        "# training and testing loop\n",
        "\n",
        "torch.manual_seed(42)\n",
        "\n",
        "# Set the number of epochs\n",
        "epochs = 100\n",
        "\n",
        "# Put data to target device\n",
        "X_train, y_train = X_train.to(device), y_train.to(device)\n",
        "X_test, y_test = X_test.to(device), y_test.to(device)\n",
        "\n",
        "\n",
        "# loop\n",
        "for epoch in range(epochs):\n",
        "  model_0.train()\n",
        "\n",
        "  # forward pass..outputs are logits\n",
        "  y_logits = model_0(X_train).squeeze() # squeeze to remove '1' dimensions\n",
        "  y_pred = torch.round(torch.sigmoid(y_logits))\n",
        "\n",
        "\n",
        "  # calculate loss\n",
        "  loss = loss_fn(y_logits, y_train)\n",
        "  acc = accuracy_fn(y_true=y_train, y_pred=y_pred)\n",
        "\n",
        "  # optimizer zero grad\n",
        "  optimizer.zero_grad()\n",
        "\n",
        "  # loss backwards\n",
        "  loss.backward()\n",
        "\n",
        "  optimizer.step()\n",
        "\n",
        "  # testing\n",
        "  model_0.eval()\n",
        "  with torch.inference_mode():\n",
        "    # forward pass to get logits\n",
        "    test_logits = model_0(X_test).squeeze()\n",
        "    test_pred = torch.round(torch.sigmoid(test_logits))\n",
        "\n",
        "    # 2. Caculate loss/accuracy\n",
        "    test_loss = loss_fn(test_logits,\n",
        "                        y_test)\n",
        "    test_acc = accuracy_fn(y_true=y_test,\n",
        "                            y_pred=test_pred)\n",
        "\n",
        "    # Print out what's happening every 10 epochs\n",
        "    if epoch % 10 == 0:\n",
        "        print(f\"Epoch: {epoch} | Loss: {loss:.5f}, Accuracy: {acc:.2f}% | Test loss: {test_loss:.5f}, Test acc: {test_acc:.2f}%\")"
      ],
      "metadata": {
        "id": "r6etjN8rtss-",
        "colab": {
          "base_uri": "https://localhost:8080/"
        },
        "outputId": "d6567c00-7df1-4e19-e12b-65dd3908e765"
      },
      "execution_count": null,
      "outputs": [
        {
          "output_type": "stream",
          "name": "stdout",
          "text": [
            "Epoch: 0 | Loss: 0.63870, Accuracy: 50.00% | Test loss: 0.64153, Test acc: 50.00%\n",
            "Epoch: 10 | Loss: 0.62994, Accuracy: 50.00% | Test loss: 0.63351, Test acc: 50.00%\n",
            "Epoch: 20 | Loss: 0.62129, Accuracy: 51.00% | Test loss: 0.62558, Test acc: 53.00%\n",
            "Epoch: 30 | Loss: 0.61273, Accuracy: 64.62% | Test loss: 0.61774, Test acc: 62.50%\n",
            "Epoch: 40 | Loss: 0.60427, Accuracy: 71.38% | Test loss: 0.60997, Test acc: 68.00%\n",
            "Epoch: 50 | Loss: 0.59589, Accuracy: 75.00% | Test loss: 0.60228, Test acc: 71.50%\n",
            "Epoch: 60 | Loss: 0.58759, Accuracy: 78.25% | Test loss: 0.59465, Test acc: 74.50%\n",
            "Epoch: 70 | Loss: 0.57936, Accuracy: 80.75% | Test loss: 0.58709, Test acc: 76.00%\n",
            "Epoch: 80 | Loss: 0.57122, Accuracy: 82.75% | Test loss: 0.57960, Test acc: 77.50%\n",
            "Epoch: 90 | Loss: 0.56315, Accuracy: 84.75% | Test loss: 0.57217, Test acc: 79.50%\n"
          ]
        }
      ]
    },
    {
      "cell_type": "code",
      "source": [
        "# Plot the model predictions\n",
        "import numpy as np\n",
        "\n",
        "def plot_decision_boundary(model, X, y):\n",
        "\n",
        "    # Put everything to CPU (works better with NumPy + Matplotlib)\n",
        "    model.to(\"cpu\")\n",
        "    X, y = X.to(\"cpu\"), y.to(\"cpu\")\n",
        "\n",
        "    # Source - https://madewithml.com/courses/foundations/neural-networks/\n",
        "    # (with modifications)\n",
        "    x_min, x_max = X[:, 0].min() - 0.1, X[:, 0].max() + 0.1\n",
        "    y_min, y_max = X[:, 1].min() - 0.1, X[:, 1].max() + 0.1\n",
        "    xx, yy = np.meshgrid(np.linspace(x_min, x_max, 101),\n",
        "                         np.linspace(y_min, y_max, 101))\n",
        "\n",
        "    # Make features\n",
        "    X_to_pred_on = torch.from_numpy(np.column_stack((xx.ravel(), yy.ravel()))).float()\n",
        "\n",
        "    # Make predictions\n",
        "    model.eval()\n",
        "    with torch.inference_mode():\n",
        "        y_logits = model(X_to_pred_on)\n",
        "\n",
        "    # Test for multi-class or binary and adjust logits to prediction labels\n",
        "    if len(torch.unique(y)) > 2:\n",
        "        y_pred = torch.softmax(y_logits, dim=1).argmax(dim=1) # mutli-class\n",
        "    else:\n",
        "        y_pred = torch.round(torch.sigmoid(y_logits)) # binary\n",
        "\n",
        "    # Reshape preds and plot\n",
        "    y_pred = y_pred.reshape(xx.shape).detach().numpy()\n",
        "    plt.figure(figsize=(3, 3))\n",
        "    plt.contourf(xx, yy, y_pred, cmap=plt.cm.RdYlBu, alpha=0.7)\n",
        "    plt.scatter(X[:, 0], X[:, 1], c=y, s=40, cmap=plt.cm.RdYlBu)\n",
        "    plt.xlim(xx.min(), xx.max())\n",
        "    plt.ylim(yy.min(), yy.max())\n"
      ],
      "metadata": {
        "id": "RTSq-8wqlvGM"
      },
      "execution_count": null,
      "outputs": []
    },
    {
      "cell_type": "code",
      "source": [
        "# decision boundaries for train set\n",
        "plot_decision_boundary(model_0, X_train, y_train)"
      ],
      "metadata": {
        "colab": {
          "base_uri": "https://localhost:8080/",
          "height": 291
        },
        "id": "IMrWpTlFozGM",
        "outputId": "0ee8f7a7-34e3-4341-bed7-16c2009311e4"
      },
      "execution_count": null,
      "outputs": [
        {
          "output_type": "display_data",
          "data": {
            "text/plain": [
              "<Figure size 300x300 with 1 Axes>"
            ],
            "image/png": "[encoded data removed]"
          },
          "metadata": {}
        }
      ]
    },
    {
      "cell_type": "code",
      "source": [
        "# decision boundary for test set\n",
        "plot_decision_boundary(model_0, X_test, y_test)"
      ],
      "metadata": {
        "colab": {
          "base_uri": "https://localhost:8080/",
          "height": 291
        },
        "id": "_X1Nm9BUo5e4",
        "outputId": "98ed43fa-83dd-463c-e5b8-362b2ca3b679"
      },
      "execution_count": null,
      "outputs": [
        {
          "output_type": "display_data",
          "data": {
            "text/plain": [
              "<Figure size 300x300 with 1 Axes>"
            ],
            "image/png": "[encoded data removed]"
          },
          "metadata": {}
        }
      ]
    },
    {
      "cell_type": "code",
      "source": [
        "# creating a straight line tensor\n",
        "tensor_A = torch.arange(-100, 100, 1)\n",
        "plt.figure(figsize=(3, 3))\n",
        "plt.plot(tensor_A)"
      ],
      "metadata": {
        "colab": {
          "base_uri": "https://localhost:8080/",
          "height": 308
        },
        "id": "F69qBKcCpdLH",
        "outputId": "36c58f83-c703-45de-9c3e-819aadd41c2d"
      },
      "execution_count": null,
      "outputs": [
        {
          "output_type": "execute_result",
          "data": {
            "text/plain": [
              "[<matplotlib.lines.Line2D at 0x781eb02bf4c0>]"
            ]
          },
          "metadata": {},
          "execution_count": 19
        },
        {
          "output_type": "display_data",
          "data": {
            "text/plain": [
              "<Figure size 300x300 with 1 Axes>"
            ],
            "image/png": "[encoded data removed]"
          },
          "metadata": {}
        }
      ]
    },
    {
      "cell_type": "code",
      "source": [
        "plt.figure(figsize=(3, 3))\n",
        "plt.plot(torch.tanh(tensor_A))"
      ],
      "metadata": {
        "colab": {
          "base_uri": "https://localhost:8080/",
          "height": 308
        },
        "id": "WYQkbFRNrm5V",
        "outputId": "1d337cba-19af-4ae7-893a-8b027d5c4765"
      },
      "execution_count": null,
      "outputs": [
        {
          "output_type": "execute_result",
          "data": {
            "text/plain": [
              "[<matplotlib.lines.Line2D at 0x781eb0ef4400>]"
            ]
          },
          "metadata": {},
          "execution_count": 20
        },
        {
          "output_type": "display_data",
          "data": {
            "text/plain": [
              "<Figure size 300x300 with 1 Axes>"
            ],
            "image/png": "[encoded data removed]"
          },
          "metadata": {}
        }
      ]
    },
    {
      "cell_type": "code",
      "source": [
        "def tanh(z):\n",
        "  return (np.exp(z) - np.exp(-z)) / (np.exp(z) + np.exp(-z))\n",
        "\n",
        "plt.figure(figsize=(3, 3))\n",
        "plt.plot(tanh(tensor_A))"
      ],
      "metadata": {
        "colab": {
          "base_uri": "https://localhost:8080/",
          "height": 308
        },
        "id": "U0xHlckAsWmH",
        "outputId": "5a33e3ae-4efc-465d-8d49-0d04892ae777"
      },
      "execution_count": null,
      "outputs": [
        {
          "output_type": "execute_result",
          "data": {
            "text/plain": [
              "[<matplotlib.lines.Line2D at 0x781eb08dca90>]"
            ]
          },
          "metadata": {},
          "execution_count": 21
        },
        {
          "output_type": "display_data",
          "data": {
            "text/plain": [
              "<Figure size 300x300 with 1 Axes>"
            ],
            "image/png": "[encoded data removed]"
          },
          "metadata": {}
        }
      ]
    },
    {
      "cell_type": "markdown",
      "source": [
        "# **Multi-Class Classification**"
      ],
      "metadata": {
        "id": "VnSlsyVSwVWh"
      }
    },
    {
      "cell_type": "code",
      "source": [
        "# Code for creating a spiral dataset from CS231n\n",
        "import numpy as np\n",
        "N = 100 # number of points per class\n",
        "D = 2 # dimensionality\n",
        "K = 3 # number of classes\n",
        "X = np.zeros((N*K,D)) # data matrix (each row = single example)\n",
        "y = np.zeros(N*K, dtype='uint8') # class labels\n",
        "for j in range(K):\n",
        "  ix = range(N*j,N*(j+1))\n",
        "  r = np.linspace(0.0,1,N) # radius\n",
        "  t = np.linspace(j*4,(j+1)*4,N) + np.random.randn(N)*0.2 # theta\n",
        "  X[ix] = np.c_[r*np.sin(t), r*np.cos(t)]\n",
        "  y[ix] = j\n",
        "# lets visualize the data\n",
        "plt.figure(figsize=(3, 3))\n",
        "plt.scatter(X[:, 0], X[:, 1], c=y, s=40, cmap=plt.cm.Spectral)\n",
        "plt.show()"
      ],
      "metadata": {
        "colab": {
          "base_uri": "https://localhost:8080/",
          "height": 291
        },
        "id": "D7UI1of5vHn5",
        "outputId": "76599787-1b2f-404e-8be3-11d8fcf17569"
      },
      "execution_count": null,
      "outputs": [
        {
          "output_type": "display_data",
          "data": {
            "text/plain": [
              "<Figure size 300x300 with 1 Axes>"
            ],
            "image/png": "[encoded data removed]"
          },
          "metadata": {}
        }
      ]
    },
    {
      "cell_type": "code",
      "source": [
        "import torch\n",
        "from torch import nn\n",
        "\n",
        "X = torch.from_numpy(X).type(torch.float)\n",
        "y = torch.from_numpy(y).type(torch.LongTensor)\n",
        "\n",
        "# create train test splits\n",
        "from sklearn.model_selection import train_test_split\n",
        "\n",
        "X_train, X_test, y_train, y_test = train_test_split(X, y, test_size=0.2, random_state=42)\n",
        "X_train.shape, y_train.shape, X_test.shape, y_test.shape"
      ],
      "metadata": {
        "colab": {
          "base_uri": "https://localhost:8080/"
        },
        "id": "QVdjGDhSwYXh",
        "outputId": "21ed4c9e-1611-4a1c-d7df-9f035bc57b9a"
      },
      "execution_count": null,
      "outputs": [
        {
          "output_type": "execute_result",
          "data": {
            "text/plain": [
              "(torch.Size([240, 2]),\n",
              " torch.Size([240]),\n",
              " torch.Size([60, 2]),\n",
              " torch.Size([60]))"
            ]
          },
          "metadata": {},
          "execution_count": 59
        }
      ]
    },
    {
      "cell_type": "code",
      "source": [
        "# Let's calculuate the accuracy for when we fit our model\n",
        "!pip -q install torchmetrics # colab doesn't come with torchmetrics\n",
        "from torchmetrics import Accuracy\n",
        "\n",
        "## TODO: uncomment the two lines below to send the accuracy function to the device\n",
        "acc_fn = Accuracy(task=\"multiclass\", num_classes=3).to(device)\n",
        "acc_fn\n"
      ],
      "metadata": {
        "colab": {
          "base_uri": "https://localhost:8080/"
        },
        "id": "d6nZhL2hxN2t",
        "outputId": "1f9b1479-6e28-4797-c320-fabc2700619c"
      },
      "execution_count": null,
      "outputs": [
        {
          "output_type": "execute_result",
          "data": {
            "text/plain": [
              "MulticlassAccuracy()"
            ]
          },
          "metadata": {},
          "execution_count": 60
        }
      ]
    },
    {
      "cell_type": "code",
      "source": [
        "# Prepare device agnostic code\n",
        "device = \"cuda\" if torch.cuda.is_available() else \"cpu\"\n",
        "\n",
        "# Create model by subclassing nn.Module\n",
        "class MultiClassModel(nn.Module):\n",
        "  def __init__(self):\n",
        "    super().__init__()\n",
        "\n",
        "    self.layer_1 = nn.Linear(in_features=2, out_features=10, bias=True)\n",
        "    self.layer_2 = nn.Linear(in_features=10, out_features=10, bias=True)\n",
        "    self.layer_3 = nn.Linear(in_features=10, out_features=10, bias=True)\n",
        "    self.layer_4 = nn.Linear(in_features=10, out_features=10, bias=True)\n",
        "    self.layer_5 = nn.Linear(in_features=10, out_features=3, bias=True)\n",
        "    self.relu = nn.ReLU()\n",
        "\n",
        "  def forward(self, x):\n",
        "    return self.layer_5(self.relu(self.layer_4(self.relu(self.layer_3(self.relu(self.layer_2(self.relu(self.layer_1(x)))))))))\n",
        "\n",
        "\n",
        "# Instantiate model and send it to device\n",
        "model_0 = MultiClassModel().to(device)\n",
        "model_0"
      ],
      "metadata": {
        "colab": {
          "base_uri": "https://localhost:8080/"
        },
        "id": "_8bAIttgxgeD",
        "outputId": "17bae6c9-6ea6-4f5e-e373-ab7643f124c9"
      },
      "execution_count": null,
      "outputs": [
        {
          "output_type": "execute_result",
          "data": {
            "text/plain": [
              "MultiClassModel(\n",
              "  (layer_1): Linear(in_features=2, out_features=10, bias=True)\n",
              "  (layer_2): Linear(in_features=10, out_features=10, bias=True)\n",
              "  (layer_3): Linear(in_features=10, out_features=10, bias=True)\n",
              "  (layer_4): Linear(in_features=10, out_features=10, bias=True)\n",
              "  (layer_5): Linear(in_features=10, out_features=3, bias=True)\n",
              "  (relu): ReLU()\n",
              ")"
            ]
          },
          "metadata": {},
          "execution_count": 71
        }
      ]
    },
    {
      "cell_type": "code",
      "source": [
        "# Setup data to be device agnostic\n",
        "X_train, y_train = X_train.to(device), y_train.to(device)\n",
        "X_test, y_test = X_test.to(device), y_test.to(device)\n",
        "print(X_train.dtype, X_test.dtype, y_train.dtype, y_test.dtype)\n",
        "\n",
        "# Print out first 10 untrained model outputs (forward pass)\n",
        "print(\"Logits:\")\n",
        "## Your code here ##\n",
        "y_logits = model_0(X_train)[:10]\n",
        "print(y_logits)\n",
        "\n",
        "print(\"Pred probs:\")\n",
        "## Your code here ##\n",
        "y_pred_probs = torch.softmax(model_0(X_train)[:10], dim=1)\n",
        "print(y_pred_probs)\n",
        "\n",
        "print(\"Pred labels:\")\n",
        "## Your code here ##\n",
        "print(y_pred_probs.argmax(dim=1))"
      ],
      "metadata": {
        "colab": {
          "base_uri": "https://localhost:8080/"
        },
        "id": "OT5vkwo8zf7l",
        "outputId": "c32514bd-877e-4fd7-e9c6-22ffc0a9d304"
      },
      "execution_count": null,
      "outputs": [
        {
          "output_type": "stream",
          "name": "stdout",
          "text": [
            "torch.float32 torch.float32 torch.int64 torch.int64\n",
            "Logits:\n",
            "tensor([[-0.1280, -0.2061,  0.2006],\n",
            "        [-0.1302, -0.2065,  0.1984],\n",
            "        [-0.1270, -0.2067,  0.2011],\n",
            "        [-0.1364, -0.2058,  0.1963],\n",
            "        [-0.1333, -0.2059,  0.1976],\n",
            "        [-0.1281, -0.2068,  0.2006],\n",
            "        [-0.1277, -0.2068,  0.2007],\n",
            "        [-0.1262, -0.2066,  0.2019],\n",
            "        [-0.1296, -0.2065,  0.1989],\n",
            "        [-0.1367, -0.2058,  0.1961]], device='cuda:0',\n",
            "       grad_fn=<SliceBackward0>)\n",
            "Pred probs:\n",
            "tensor([[0.3018, 0.2791, 0.4191],\n",
            "        [0.3016, 0.2795, 0.4189],\n",
            "        [0.3019, 0.2788, 0.4192],\n",
            "        [0.3005, 0.2804, 0.4191],\n",
            "        [0.3010, 0.2799, 0.4191],\n",
            "        [0.3018, 0.2790, 0.4192],\n",
            "        [0.3019, 0.2789, 0.4192],\n",
            "        [0.3020, 0.2787, 0.4193],\n",
            "        [0.3017, 0.2793, 0.4190],\n",
            "        [0.3005, 0.2804, 0.4191]], device='cuda:0', grad_fn=<SoftmaxBackward0>)\n",
            "Pred labels:\n",
            "tensor([2, 2, 2, 2, 2, 2, 2, 2, 2, 2], device='cuda:0')\n"
          ]
        }
      ]
    },
    {
      "cell_type": "code",
      "source": [
        "# set up loos function and optimizer\n",
        "loss_fn = nn.CrossEntropyLoss()\n",
        "optimizer = torch.optim.Adam(params=model_0.parameters(), lr=0.02)"
      ],
      "metadata": {
        "id": "7-FmbS9W1Vfc"
      },
      "execution_count": null,
      "outputs": []
    },
    {
      "cell_type": "code",
      "source": [
        "y_train.shape"
      ],
      "metadata": {
        "colab": {
          "base_uri": "https://localhost:8080/"
        },
        "id": "hA4KBXyJu3TX",
        "outputId": "3828a36f-442e-440a-90cb-d40598a145a1"
      },
      "execution_count": null,
      "outputs": [
        {
          "output_type": "execute_result",
          "data": {
            "text/plain": [
              "torch.Size([240])"
            ]
          },
          "metadata": {},
          "execution_count": 74
        }
      ]
    },
    {
      "cell_type": "code",
      "source": [
        "# Build a training loop for the model\n",
        "torch.manual_seed(42)\n",
        "\n",
        "epochs = 1000\n",
        "\n",
        "# Loop over data\n",
        "for epoch in range(epochs):\n",
        "  model_0.train()\n",
        "\n",
        "  # Forward pass\n",
        "\n",
        "  ## Training\n",
        "\n",
        "  # 1. Forward pass\n",
        "  y_logits = model_0(X_train)\n",
        "  y_pred = torch.softmax(y_logits, dim=1).argmax(dim=1)\n",
        "\n",
        "\n",
        "  # 2. Calculate the loss\n",
        "  loss = loss_fn(y_logits, y_train)\n",
        "  acc = acc_fn(y_pred, y_train)\n",
        "\n",
        "\n",
        "  # 3. Optimizer zero grad\n",
        "  optimizer.zero_grad()\n",
        "\n",
        "  # 4. Loss backward\n",
        "  loss.backward()\n",
        "\n",
        "  # 5. Optimizer step\n",
        "  optimizer.step()\n",
        "\n",
        "  ## Testing\n",
        "  model_0.eval()\n",
        "  with torch.inference_mode():\n",
        "\n",
        "    # 1. Forward pass\n",
        "    test_logits = model_0(X_test).squeeze()\n",
        "    test_pred = torch.softmax(test_logits, dim=1).argmax(dim=1)\n",
        "\n",
        "    # 2. Caculate loss and acc\n",
        "    test_loss = loss_fn(test_logits, y_test)\n",
        "    test_acc = acc_fn(test_pred, y_test)\n",
        "\n",
        "  # Print out what's happening every 100 epochs\n",
        "  if epoch % 100 == 0:\n",
        "        print(f\"Epoch: {epoch} | Loss: {loss:.5f}, Accuracy: {acc:.2f}% | Test loss: {test_loss:.5f}, Test acc: {test_acc:.2f}%\")\n"
      ],
      "metadata": {
        "id": "kCoVMsIK3mVP",
        "colab": {
          "base_uri": "https://localhost:8080/"
        },
        "outputId": "3d05a1e3-19f7-44c2-b343-974648dec687"
      },
      "execution_count": null,
      "outputs": [
        {
          "output_type": "stream",
          "name": "stdout",
          "text": [
            "Epoch: 0 | Loss: 1.11858, Accuracy: 0.32% | Test loss: 1.09308, Test acc: 0.37%\n",
            "Epoch: 100 | Loss: 0.35076, Accuracy: 0.80% | Test loss: 0.37422, Test acc: 0.77%\n",
            "Epoch: 200 | Loss: 0.10031, Accuracy: 0.97% | Test loss: 0.09639, Test acc: 0.97%\n",
            "Epoch: 300 | Loss: 0.03079, Accuracy: 0.99% | Test loss: 0.00966, Test acc: 1.00%\n",
            "Epoch: 400 | Loss: 0.02354, Accuracy: 0.99% | Test loss: 0.03517, Test acc: 0.98%\n",
            "Epoch: 500 | Loss: 0.02036, Accuracy: 0.99% | Test loss: 0.09883, Test acc: 0.98%\n",
            "Epoch: 600 | Loss: 0.01819, Accuracy: 0.99% | Test loss: 0.12945, Test acc: 0.98%\n",
            "Epoch: 700 | Loss: 0.01707, Accuracy: 0.99% | Test loss: 0.12406, Test acc: 0.98%\n",
            "Epoch: 800 | Loss: 0.01642, Accuracy: 0.99% | Test loss: 0.13160, Test acc: 0.98%\n",
            "Epoch: 900 | Loss: 0.01619, Accuracy: 0.99% | Test loss: 0.13445, Test acc: 0.98%\n"
          ]
        }
      ]
    },
    {
      "cell_type": "code",
      "source": [
        "plot_decision_boundary(model_0, X, y)"
      ],
      "metadata": {
        "colab": {
          "base_uri": "https://localhost:8080/",
          "height": 291
        },
        "id": "HVeRf0lXwAPB",
        "outputId": "c28f62f4-75d3-4dc7-bb6b-31ef87f3ed4a"
      },
      "execution_count": null,
      "outputs": [
        {
          "output_type": "display_data",
          "data": {
            "text/plain": [
              "<Figure size 300x300 with 1 Axes>"
            ],
            "image/png": "[encoded data removed]"
          },
          "metadata": {}
        }
      ]
    }
  ]
}